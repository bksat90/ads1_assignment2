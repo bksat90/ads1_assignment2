{
 "cells": [
  {
   "cell_type": "code",
   "execution_count": 1,
   "id": "8c1acd9f",
   "metadata": {},
   "outputs": [],
   "source": [
    "import numpy as np\n",
    "import pandas as pd\n",
    "import matplotlib.pyplot as plt\n",
    "import sklearn.cluster as cluster\n",
    "import sklearn.metrics as skmet\n",
    "import matplotlib.pyplot as plt\n",
    "import cluster_tools as ct"
   ]
  },
  {
   "cell_type": "code",
   "execution_count": 7,
   "id": "0c839df3",
   "metadata": {},
   "outputs": [],
   "source": [
    "def FilterData(df):\n",
    "    \"\"\"\n",
    "    This function filters the dataframe for the required countries such as US,\n",
    "    UK, France, India, China, Germany, Russia and keeps only the required\n",
    "    fields.\n",
    "    \"\"\"\n",
    "    # filter out data for US, UK, France, India, China, Germany, Russia\n",
    "    countries = ['United States', 'United Kingdom', 'France', 'India', 'China',\n",
    "             'Germany', 'Russian Federation', ]\n",
    "    df = df.loc[df['Country Name'].isin(countries)]\n",
    "    \n",
    "    # required indicators\n",
    "    indicator = ['SP.URB.TOTL', 'SP.POP.TOTL', 'SH.DYN.MORT', 'SH.DYN.MORT', \n",
    "                 'ER.H2O.FWTL.K3', 'EN.ATM.GHGT.KT.CE', 'EN.ATM.CO2E.KT',\n",
    "                 'EN.ATM.CO2E.SF.KT', 'EN.ATM.CO2E.LF.KT', 'EN.ATM.CO2E.GF.KT',\n",
    "                 'EG.USE.ELEC.KH.PC', 'EG.ELC.RNEW.ZS', 'AG.LND.FRST.K2',\n",
    "                 'AG.LND.ARBL.ZS', 'AG.LND.AGRI.K2']\n",
    "    df = df.loc[df['Indicator Code'].isin(indicator)]\n",
    "    return df\n",
    "\n",
    "\n",
    "def Preprocess(df):\n",
    "    \"\"\"\n",
    "    This function preprocesses the data\n",
    "    \"\"\"\n",
    "    df.drop('Country Code', axis=1, inplace=True)\n",
    "    df.fillna(0, inplace=True)\n",
    "    return df\n",
    "\n",
    "\n",
    "def ElectricityConsumption(df):\n",
    "    \"\"\"\n",
    "    \"\"\"\n",
    "    econs_df =  df.loc[df['Indicator Code'] == 'EG.USE.ELEC.KH.PC']\n",
    "    econs_df.drop(['Indicator Name', 'Indicator Code'],\n",
    "                  axis=1, inplace=True)\n",
    "    econs_df.reset_index(drop=True, inplace=True)\n",
    "    econs_df = econs_df.T\n",
    "    econs_df = econs_df.rename(columns=econs_df.iloc[0])\n",
    "    econs_df.drop(labels=['Country Name'],axis=0, inplace=True)\n",
    "    econs_df.rename(columns={'United Kingdom': 'UK',\n",
    "                             'Russian Federation': 'Russia',\n",
    "                             'United States': 'US'}, inplace=True)\n",
    "    econs_df.reset_index(inplace=True)\n",
    "    econs_df.drop(econs_df.tail(1).index,inplace=True)\n",
    "    return econs_df"
   ]
  },
  {
   "cell_type": "code",
   "execution_count": 23,
   "id": "0ed5a63c",
   "metadata": {},
   "outputs": [],
   "source": [
    "def HeatmapPreprocess(df, country):\n",
    "    \"\"\"\n",
    "    \"\"\"\n",
    "    hdf = df.loc[df['Country Name'] == country]\n",
    "    indicator = ['SP.URB.TOTL', 'SP.POP.TOTL', 'SH.DYN.MORT', 'ER.H2O.FWTL.K3',\n",
    "           'AG.LND.FRST.K2', 'AG.LND.ARBL.ZS', 'AG.LND.AGRI.K2',\n",
    "           'EN.ATM.CO2E.KT']\n",
    "    hdf =  hdf.loc[hdf['Indicator Code'].isin(indicator)]\n",
    "    hdf.drop(['Country Name', 'Indicator Code'], axis=1, inplace=True)\n",
    "    hdf.reset_index(drop=True, inplace=True)\n",
    "    hdf = hdf.T\n",
    "    hdf.reset_index(inplace=True)\n",
    "    hdf = hdf.rename(columns=hdf.iloc[0])\n",
    "    hdf.drop(0, inplace=True)\n",
    "    hdf.drop(hdf.tail(3).index,inplace=True)\n",
    "    hdf['Indicator Name'] = hdf['Indicator Name'].astype('int')\n",
    "    hdf = hdf[hdf['Indicator Name'] >= 1990]\n",
    "    hdf['Indicator Name'] = hdf['Indicator Name'].astype('object')\n",
    "    return hdf"
   ]
  },
  {
   "cell_type": "code",
   "execution_count": 24,
   "id": "756c991e",
   "metadata": {},
   "outputs": [
    {
     "name": "stderr",
     "output_type": "stream",
     "text": [
      "C:\\Users\\bksat\\AppData\\Local\\Temp\\ipykernel_14932\\49223859.py:35: SettingWithCopyWarning: \n",
      "A value is trying to be set on a copy of a slice from a DataFrame\n",
      "\n",
      "See the caveats in the documentation: https://pandas.pydata.org/pandas-docs/stable/user_guide/indexing.html#returning-a-view-versus-a-copy\n",
      "  econs_df.drop(['Indicator Name', 'Indicator Code'],\n"
     ]
    }
   ],
   "source": [
    "df = pd.read_csv('API_19_DS2_en_csv_v2_4902199.csv', skiprows=4)\n",
    "# filters the data for the required countries\n",
    "df = FilterData(df)\n",
    "df = Preprocess(df)\n",
    "edf = ElectricityConsumption(df)"
   ]
  },
  {
   "cell_type": "code",
   "execution_count": 25,
   "id": "9f189103",
   "metadata": {},
   "outputs": [],
   "source": [
    "hdf = HeatmapPreprocess(df, 'India')"
   ]
  },
  {
   "cell_type": "code",
   "execution_count": 31,
   "id": "aeb6cbc1",
   "metadata": {},
   "outputs": [
    {
     "data": {
      "text/plain": [
       "Indicator Name                                                 object\n",
       "Urban population                                               object\n",
       "Population, total                                              object\n",
       "Mortality rate, under-5 (per 1,000 live births)                object\n",
       "Annual freshwater withdrawals, total (billion cubic meters)    object\n",
       "CO2 emissions (kt)                                             object\n",
       "Forest area (sq. km)                                           object\n",
       "Arable land (% of land area)                                   object\n",
       "Agricultural land (sq. km)                                     object\n",
       "dtype: object"
      ]
     },
     "execution_count": 31,
     "metadata": {},
     "output_type": "execute_result"
    }
   ],
   "source": [
    "hdf.dtypes"
   ]
  },
  {
   "cell_type": "code",
   "execution_count": null,
   "id": "a6b7ef88",
   "metadata": {},
   "outputs": [],
   "source": []
  }
 ],
 "metadata": {
  "kernelspec": {
   "display_name": "Python 3 (ipykernel)",
   "language": "python",
   "name": "python3"
  },
  "language_info": {
   "codemirror_mode": {
    "name": "ipython",
    "version": 3
   },
   "file_extension": ".py",
   "mimetype": "text/x-python",
   "name": "python",
   "nbconvert_exporter": "python",
   "pygments_lexer": "ipython3",
   "version": "3.9.13"
  }
 },
 "nbformat": 4,
 "nbformat_minor": 5
}
