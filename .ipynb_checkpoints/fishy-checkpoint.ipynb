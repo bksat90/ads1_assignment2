{
 "cells": [
  {
   "cell_type": "markdown",
   "id": "bf9c89f4",
   "metadata": {},
   "source": [
    "Imports"
   ]
  },
  {
   "cell_type": "code",
   "execution_count": 1,
   "id": "5315e2cc",
   "metadata": {},
   "outputs": [
    {
     "ename": "ModuleNotFoundError",
     "evalue": "No module named 'map'",
     "output_type": "error",
     "traceback": [
      "\u001b[1;31m---------------------------------------------------------------------------\u001b[0m",
      "\u001b[1;31mModuleNotFoundError\u001b[0m                       Traceback (most recent call last)",
      "\u001b[1;32m~\\AppData\\Local\\Temp\\ipykernel_22404\\1704659087.py\u001b[0m in \u001b[0;36m<module>\u001b[1;34m\u001b[0m\n\u001b[0;32m     20\u001b[0m \u001b[0mget_ipython\u001b[0m\u001b[1;33m(\u001b[0m\u001b[1;33m)\u001b[0m\u001b[1;33m.\u001b[0m\u001b[0mrun_line_magic\u001b[0m\u001b[1;33m(\u001b[0m\u001b[1;34m'matplotlib'\u001b[0m\u001b[1;33m,\u001b[0m \u001b[1;34m'inline'\u001b[0m\u001b[1;33m)\u001b[0m\u001b[1;33m\u001b[0m\u001b[1;33m\u001b[0m\u001b[0m\n\u001b[0;32m     21\u001b[0m \u001b[1;33m\u001b[0m\u001b[0m\n\u001b[1;32m---> 22\u001b[1;33m \u001b[1;32mimport\u001b[0m \u001b[0mmap\u001b[0m\u001b[1;33m\u001b[0m\u001b[1;33m\u001b[0m\u001b[0m\n\u001b[0m",
      "\u001b[1;31mModuleNotFoundError\u001b[0m: No module named 'map'"
     ]
    }
   ],
   "source": [
    "#!/usr/bin/env python3\n",
    "# -*- coding: utf-8 -*-\n",
    "\"\"\"\n",
    "Created on Tue Dec 14 09:54:28 2021\n",
    "\n",
    "Clustering exercise using fish measurements\n",
    "\n",
    "@author: napi\n",
    "\"\"\"\n",
    "\n",
    "import pandas as pd\n",
    "import numpy as np\n",
    "\n",
    "import sklearn.cluster as cluster\n",
    "import sklearn.metrics as skmet\n",
    "\n",
    "import matplotlib.pyplot as plt\n",
    "import cluster_tools as ct\n",
    "\n",
    "%matplotlib inline\n",
    "\n",
    "import map"
   ]
  },
  {
   "cell_type": "markdown",
   "id": "759d61ef",
   "metadata": {},
   "source": [
    "Inspecting the module."
   ]
  },
  {
   "cell_type": "code",
   "execution_count": null,
   "id": "870debb0",
   "metadata": {},
   "outputs": [],
   "source": [
    "help(ct)"
   ]
  },
  {
   "cell_type": "markdown",
   "id": "794551ec",
   "metadata": {},
   "source": [
    "Read in and inspect"
   ]
  },
  {
   "cell_type": "code",
   "execution_count": null,
   "id": "c9cf6411",
   "metadata": {},
   "outputs": [],
   "source": [
    "# reading the file and basic statistics\n",
    "df_fish = pd.read_csv(\"fish_measurements.csv\", skiprows=(1,2))\n",
    "print(df_fish.describe())\n",
    "print()\n"
   ]
  },
  {
   "cell_type": "markdown",
   "id": "d222cf55",
   "metadata": {},
   "source": [
    "Display heatmap and scatter plot.\n",
    "\n",
    "The `coolwarm` colour map is used by the mapper. This and a few other colour maps.\n",
    "![Colour maps](div_colormaps.png)\n",
    "\n",
    "Combinations of columns with light blue or light red are good."
   ]
  },
  {
   "cell_type": "code",
   "execution_count": null,
   "id": "926a114c",
   "metadata": {},
   "outputs": [],
   "source": [
    "# heatmap\n",
    "ct.map_corr(df_fish, 9)\n",
    "\n",
    "# scatter plot\n",
    "pd.plotting.scatter_matrix(df_fish, figsize=(9.0, 9.0))\n",
    "plt.tight_layout()    # helps to avoid overlap of labels\n",
    "plt.show()"
   ]
  },
  {
   "cell_type": "markdown",
   "id": "82a9b7c0",
   "metadata": {},
   "source": [
    "Total length vs. height splits has a low-ish correlation. The scatter plot confirms that this is a good choice. Picking that combination. "
   ]
  },
  {
   "cell_type": "markdown",
   "id": "89d282d6",
   "metadata": {},
   "source": [
    "Setting up and executing kmeans clustering. Running a loop iterating the number of clusters and calculate the silouette score."
   ]
  },
  {
   "cell_type": "code",
   "execution_count": null,
   "id": "bef98ffe",
   "metadata": {},
   "outputs": [],
   "source": [
    "# extract columns for fitting. \n",
    "# .copy() prevents changes in df_fit to affect df_fish.\n",
    "df_fit = df_fish[[\"total length\", \"height\"]].copy()\n",
    "\n",
    "# normalise dataframe and inspect result\n",
    "# normalisation is done only on the extract columns. .copy() prevents\n",
    "# changes in df_fit to affect df_fish. This make the plots with the \n",
    "# original measurements\n",
    "df_fit, df_min, df_max = ct.scaler(df_fit)\n",
    "print(df_fit.describe())\n",
    "print()\n",
    "\n",
    "print(\"n   score\")\n",
    "# loop over trial numbers of clusters calculating the silhouette\n",
    "for ic in range(2, 7):\n",
    "    # set up kmeans and fit\n",
    "    kmeans = cluster.KMeans(n_clusters=ic)\n",
    "    kmeans.fit(df_fit)     \n",
    "\n",
    "    # extract labels and calculate silhoutte score\n",
    "    labels = kmeans.labels_\n",
    "    print (ic, skmet.silhouette_score(df_fit, labels))\n",
    "    \n",
    "    "
   ]
  },
  {
   "cell_type": "markdown",
   "id": "455f1e99",
   "metadata": {},
   "source": [
    "Good results for 4 and 5 clusters. Plot both. Use the scatter plot for colouring the sysmbols."
   ]
  },
  {
   "cell_type": "code",
   "execution_count": null,
   "id": "bd7f1017",
   "metadata": {},
   "outputs": [],
   "source": [
    "# Plot for four clusters\n",
    "nc = 4 # number of cluster centres\n",
    "\n",
    "kmeans = cluster.KMeans(n_clusters=nc)\n",
    "kmeans.fit(df_fit)     \n",
    "\n",
    "# extract labels and cluster centres\n",
    "labels = kmeans.labels_\n",
    "cen = kmeans.cluster_centers_\n",
    "\n",
    "plt.figure(figsize=(6.0, 6.0))\n",
    "# scatter plot with colours selected using the cluster numbers\n",
    "plt.scatter(df_fit[\"total length\"], df_fit[\"height\"], c=labels, cmap=\"tab10\")\n",
    "# colour map Accent selected to increase contrast between colours\n",
    "\n",
    "# show cluster centres\n",
    "xc = cen[:,0]\n",
    "yc = cen[:,1]\n",
    "plt.scatter(xc, yc, c=\"k\", marker=\"d\", s=80)\n",
    "# c = colour, s = size\n",
    "\n",
    "plt.xlabel(\"total length\")\n",
    "plt.ylabel(\"height\")\n",
    "plt.title(\"4 clusters\")\n",
    "plt.show()\n",
    "\n",
    "#----------------------------\n",
    "# Plot for five clusters\n",
    "nc = 5 # number of cluster centres\n",
    "\n",
    "kmeans = cluster.KMeans(n_clusters=nc)\n",
    "kmeans.fit(df_fit)     \n",
    "\n",
    "# extract labels and cluster centres\n",
    "labels = kmeans.labels_\n",
    "cen = kmeans.cluster_centers_\n",
    "\n",
    "plt.figure(figsize=(6.0, 6.0))\n",
    "# scatter plot with colours selected using the cluster numbers\n",
    "plt.scatter(df_fit[\"total length\"], df_fit[\"height\"], c=labels, cmap=\"tab10\")\n",
    "# colour map Accent selected to increase contrast between colours\n",
    "\n",
    "# show cluster centres\n",
    "xc = cen[:,0]\n",
    "yc = cen[:,1]\n",
    "plt.scatter(xc, yc, c=\"k\", marker=\"d\", s=80)\n",
    "\n",
    "plt.xlabel(\"total length\")\n",
    "plt.ylabel(\"height\")\n",
    "plt.title(\"5 clusters\")\n",
    "plt.show()\n",
    "\n"
   ]
  },
  {
   "cell_type": "markdown",
   "id": "9ab183c7",
   "metadata": {},
   "source": [
    "Using 5 clusters splits the bottom right cluster. The 4 cluster solution looks more plausible. The distinction between cluster 4 and 5 is much smaller than between all the other cluster combinations.\n",
    "\n",
    "Note that cluster centres are initialised randomly. Results can differ. Consider rerunning if result does not look satisfactory."
   ]
  },
  {
   "cell_type": "markdown",
   "id": "c901d41d",
   "metadata": {},
   "source": [
    "#### Now plot it on the original scale"
   ]
  },
  {
   "cell_type": "code",
   "execution_count": null,
   "id": "abb93831",
   "metadata": {},
   "outputs": [],
   "source": [
    "nc = 4 # number of cluster centres\n",
    "\n",
    "kmeans = cluster.KMeans(n_clusters=nc)\n",
    "kmeans.fit(df_fit)     \n",
    "\n",
    "# extract labels and cluster centres\n",
    "labels = kmeans.labels_\n",
    "cen = kmeans.cluster_centers_\n",
    "\n",
    "plt.figure(figsize=(6.0, 6.0))\n",
    "# scatter plot with colours selected using the cluster numbers\n",
    "# now using the original dataframe\n",
    "plt.scatter(df_fish[\"total length\"], df_fish[\"height\"], c=labels, cmap=\"tab10\")\n",
    "# colour map Accent selected to increase contrast between colours\n",
    "\n",
    "# rescale and show cluster centres\n",
    "scen = ct.backscale(cen, df_min, df_max)\n",
    "xc = scen[:,0]\n",
    "yc = scen[:,1]\n",
    "plt.scatter(xc, yc, c=\"k\", marker=\"d\", s=80)\n",
    "\n",
    "plt.xlabel(\"total length\")\n",
    "plt.ylabel(\"height\")\n",
    "plt.title(\"4 clusters\")\n",
    "plt.show()\n",
    "\n"
   ]
  },
  {
   "cell_type": "code",
   "execution_count": null,
   "id": "f4becae7",
   "metadata": {},
   "outputs": [],
   "source": []
  }
 ],
 "metadata": {
  "kernelspec": {
   "display_name": "Python 3 (ipykernel)",
   "language": "python",
   "name": "python3"
  },
  "language_info": {
   "codemirror_mode": {
    "name": "ipython",
    "version": 3
   },
   "file_extension": ".py",
   "mimetype": "text/x-python",
   "name": "python",
   "nbconvert_exporter": "python",
   "pygments_lexer": "ipython3",
   "version": "3.9.13"
  }
 },
 "nbformat": 4,
 "nbformat_minor": 5
}
